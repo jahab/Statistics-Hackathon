{
 "cells": [
  {
   "cell_type": "markdown",
   "metadata": {},
   "source": [
    "# <span style=\"color:blue\"> Statistics Hackathon </span>"
   ]
  },
  {
   "cell_type": "markdown",
   "metadata": {},
   "source": [
    "#### Importing the Libraries"
   ]
  },
  {
   "cell_type": "code",
   "execution_count": 2,
   "metadata": {
    "collapsed": true
   },
   "outputs": [],
   "source": [
    "import pandas as pd\n",
    "import numpy as np\n",
    "import seaborn as sb\n",
    "import matplotlib.pyplot as plt\n",
    "%matplotlib inline\n",
    "import mpld3\n",
    "from matplotlib import rcParams"
   ]
  },
  {
   "cell_type": "markdown",
   "metadata": {},
   "source": [
    "#### Reading the Data"
   ]
  },
  {
   "cell_type": "code",
   "execution_count": 3,
   "metadata": {
    "collapsed": true
   },
   "outputs": [],
   "source": [
    "data = pd.read_excel(\"./School Enrollment Statistics 2012-2016.xlsx\")"
   ]
  },
  {
   "cell_type": "code",
   "execution_count": 4,
   "metadata": {
    "scrolled": true
   },
   "outputs": [
    {
     "name": "stdout",
     "output_type": "stream",
     "text": [
      "<class 'pandas.core.frame.DataFrame'>\n",
      "RangeIndex: 6077 entries, 0 to 6076\n",
      "Data columns (total 96 columns):\n",
      "Dise No.                6077 non-null int64\n",
      "Rural / Urban           6077 non-null object\n",
      "Year                    6077 non-null object\n",
      "Block Code              6077 non-null int64\n",
      "Block Name              6077 non-null object\n",
      "Village Code            6077 non-null int64\n",
      "Village Name            6077 non-null object\n",
      "Zonal Office            6077 non-null object\n",
      "CRC Code                6077 non-null int64\n",
      "CRC No.                 6077 non-null object\n",
      "Pin Code                6077 non-null int64\n",
      "School Name             6077 non-null object\n",
      "School Status Code      6077 non-null int64\n",
      "School Status           6077 non-null object\n",
      "Management Code         6077 non-null int64\n",
      "Management Name         6077 non-null object\n",
      "Category Code           6077 non-null int64\n",
      "Category Name           6077 non-null object\n",
      "School Type Code        6077 non-null int64\n",
      "School Type Name        6077 non-null object\n",
      "Lowest Class            6077 non-null int64\n",
      "Highest Class           6077 non-null int64\n",
      "Medium Code             6077 non-null int64\n",
      "Medium                  6077 non-null object\n",
      "Building Status Code    6077 non-null int64\n",
      "Building Status         6077 non-null object\n",
      "Electricity Code        6077 non-null int64\n",
      "Electricity             6077 non-null object\n",
      "Boundary Wall Code      6077 non-null int64\n",
      "Boundary Wall           6077 non-null object\n",
      "Library Code            6077 non-null int64\n",
      "Library                 6077 non-null object\n",
      "Playground Code         6077 non-null int64\n",
      "Playground              6077 non-null object\n",
      "Water Code              6077 non-null int64\n",
      "Water                   6077 non-null object\n",
      "Ramp Code               6077 non-null int64\n",
      "Ramp                    6077 non-null object\n",
      "HM Room Code            6077 non-null int64\n",
      "HM Room                 6077 non-null object\n",
      "Kitchen Shed Code       6077 non-null int64\n",
      "Kitchen Shed            6077 non-null object\n",
      "Pre Primary Boys        6077 non-null int64\n",
      "Pre Primary Girls       6077 non-null int64\n",
      "Pre Primary Total       6077 non-null int64\n",
      "1 Boys                  6077 non-null int64\n",
      "1 Girls                 6077 non-null int64\n",
      "1 Total                 6077 non-null int64\n",
      "2 Boys                  6077 non-null int64\n",
      "2 Girls                 6077 non-null int64\n",
      "2 Total                 6077 non-null int64\n",
      "3 Boys                  6077 non-null int64\n",
      "3 Girls                 6077 non-null int64\n",
      "3 Total                 6077 non-null int64\n",
      "4 Boys                  6077 non-null int64\n",
      "4 Girls                 6077 non-null int64\n",
      "4 Total                 6077 non-null int64\n",
      "5 Boys                  6077 non-null int64\n",
      "5 Girls                 6077 non-null int64\n",
      "5 Total                 6077 non-null int64\n",
      "6 Boys                  6077 non-null int64\n",
      "6 Girls                 6077 non-null int64\n",
      "6 Total                 6077 non-null int64\n",
      "7 Boys                  6077 non-null int64\n",
      "7 Girls                 6077 non-null int64\n",
      "7 Total                 6077 non-null int64\n",
      "8 Boys                  6077 non-null int64\n",
      "8 Girls                 6077 non-null int64\n",
      "8 Total                 6077 non-null int64\n",
      "9 Boys                  6077 non-null int64\n",
      "9 Girls                 6077 non-null int64\n",
      "9 Total                 6077 non-null int64\n",
      "10 Boys                 6077 non-null int64\n",
      "10 Girls                6077 non-null int64\n",
      "10 Total                6077 non-null int64\n",
      "11 Boys                 6077 non-null int64\n",
      "11 Girls                6077 non-null int64\n",
      "11 Total                6077 non-null int64\n",
      "12 Boys                 6077 non-null int64\n",
      "12 Girls                6077 non-null int64\n",
      "12 Total                6077 non-null int64\n",
      "1_5 Boys                6077 non-null int64\n",
      "1_5 Girls               6077 non-null int64\n",
      "1_5 Total               6077 non-null int64\n",
      "6_8 Boys                6077 non-null int64\n",
      "6_8 Girls               6077 non-null int64\n",
      "6_8 Total               6077 non-null int64\n",
      "1_8 Boys                6077 non-null int64\n",
      "1_8 Girls               6077 non-null int64\n",
      "1_8 Total               6077 non-null int64\n",
      "9_12 Boys               6077 non-null int64\n",
      "9_12 Girls              6077 non-null int64\n",
      "9_12 Total              6077 non-null int64\n",
      "1_12 Boys               6077 non-null int64\n",
      "1_12 Girls              6077 non-null int64\n",
      "1_12 Total              6077 non-null int64\n",
      "dtypes: int64(75), object(21)\n",
      "memory usage: 4.5+ MB\n"
     ]
    }
   ],
   "source": [
    "data.info()"
   ]
  },
  {
   "cell_type": "code",
   "execution_count": 5,
   "metadata": {
    "scrolled": true
   },
   "outputs": [
    {
     "data": {
      "text/html": [
       "<div>\n",
       "<style scoped>\n",
       "    .dataframe tbody tr th:only-of-type {\n",
       "        vertical-align: middle;\n",
       "    }\n",
       "\n",
       "    .dataframe tbody tr th {\n",
       "        vertical-align: top;\n",
       "    }\n",
       "\n",
       "    .dataframe thead th {\n",
       "        text-align: right;\n",
       "    }\n",
       "</style>\n",
       "<table border=\"1\" class=\"dataframe\">\n",
       "  <thead>\n",
       "    <tr style=\"text-align: right;\">\n",
       "      <th></th>\n",
       "      <th>Dise No.</th>\n",
       "      <th>Block Code</th>\n",
       "      <th>Village Code</th>\n",
       "      <th>CRC Code</th>\n",
       "      <th>Pin Code</th>\n",
       "      <th>School Status Code</th>\n",
       "      <th>Management Code</th>\n",
       "      <th>Category Code</th>\n",
       "      <th>School Type Code</th>\n",
       "      <th>Lowest Class</th>\n",
       "      <th>...</th>\n",
       "      <th>6_8 Total</th>\n",
       "      <th>1_8 Boys</th>\n",
       "      <th>1_8 Girls</th>\n",
       "      <th>1_8 Total</th>\n",
       "      <th>9_12 Boys</th>\n",
       "      <th>9_12 Girls</th>\n",
       "      <th>9_12 Total</th>\n",
       "      <th>1_12 Boys</th>\n",
       "      <th>1_12 Girls</th>\n",
       "      <th>1_12 Total</th>\n",
       "    </tr>\n",
       "  </thead>\n",
       "  <tbody>\n",
       "    <tr>\n",
       "      <th>count</th>\n",
       "      <td>6.077000e+03</td>\n",
       "      <td>6077.000000</td>\n",
       "      <td>6.077000e+03</td>\n",
       "      <td>6.077000e+03</td>\n",
       "      <td>6077.000000</td>\n",
       "      <td>6077.000000</td>\n",
       "      <td>6077.000000</td>\n",
       "      <td>6077.000000</td>\n",
       "      <td>6077.000000</td>\n",
       "      <td>6077.000000</td>\n",
       "      <td>...</td>\n",
       "      <td>6077.000000</td>\n",
       "      <td>6077.000000</td>\n",
       "      <td>6077.000000</td>\n",
       "      <td>6077.000000</td>\n",
       "      <td>6077.000000</td>\n",
       "      <td>6077.000000</td>\n",
       "      <td>6077.000000</td>\n",
       "      <td>6077.000000</td>\n",
       "      <td>6077.000000</td>\n",
       "      <td>6077.000000</td>\n",
       "    </tr>\n",
       "    <tr>\n",
       "      <th>mean</th>\n",
       "      <td>2.725158e+10</td>\n",
       "      <td>272515.831002</td>\n",
       "      <td>2.725158e+08</td>\n",
       "      <td>2.725158e+09</td>\n",
       "      <td>410889.798749</td>\n",
       "      <td>0.022709</td>\n",
       "      <td>14.612473</td>\n",
       "      <td>3.824420</td>\n",
       "      <td>2.878723</td>\n",
       "      <td>3.209149</td>\n",
       "      <td>...</td>\n",
       "      <td>124.498272</td>\n",
       "      <td>181.195327</td>\n",
       "      <td>161.872635</td>\n",
       "      <td>343.067961</td>\n",
       "      <td>67.332072</td>\n",
       "      <td>61.381274</td>\n",
       "      <td>128.713345</td>\n",
       "      <td>248.527398</td>\n",
       "      <td>223.253908</td>\n",
       "      <td>471.781307</td>\n",
       "    </tr>\n",
       "    <tr>\n",
       "      <th>std</th>\n",
       "      <td>1.376656e+05</td>\n",
       "      <td>1.377989</td>\n",
       "      <td>1.376653e+03</td>\n",
       "      <td>1.377985e+04</td>\n",
       "      <td>7382.763001</td>\n",
       "      <td>0.180914</td>\n",
       "      <td>7.155684</td>\n",
       "      <td>3.011161</td>\n",
       "      <td>0.422698</td>\n",
       "      <td>3.238724</td>\n",
       "      <td>...</td>\n",
       "      <td>197.771273</td>\n",
       "      <td>245.061331</td>\n",
       "      <td>224.598750</td>\n",
       "      <td>401.640937</td>\n",
       "      <td>192.980060</td>\n",
       "      <td>191.303518</td>\n",
       "      <td>330.509856</td>\n",
       "      <td>358.182496</td>\n",
       "      <td>347.517654</td>\n",
       "      <td>579.461969</td>\n",
       "    </tr>\n",
       "    <tr>\n",
       "      <th>min</th>\n",
       "      <td>2.725140e+10</td>\n",
       "      <td>272514.000000</td>\n",
       "      <td>2.725140e+08</td>\n",
       "      <td>2.725140e+09</td>\n",
       "      <td>4110.000000</td>\n",
       "      <td>0.000000</td>\n",
       "      <td>1.000000</td>\n",
       "      <td>1.000000</td>\n",
       "      <td>0.000000</td>\n",
       "      <td>1.000000</td>\n",
       "      <td>...</td>\n",
       "      <td>0.000000</td>\n",
       "      <td>0.000000</td>\n",
       "      <td>0.000000</td>\n",
       "      <td>0.000000</td>\n",
       "      <td>0.000000</td>\n",
       "      <td>0.000000</td>\n",
       "      <td>0.000000</td>\n",
       "      <td>0.000000</td>\n",
       "      <td>0.000000</td>\n",
       "      <td>0.000000</td>\n",
       "    </tr>\n",
       "    <tr>\n",
       "      <th>25%</th>\n",
       "      <td>2.725150e+10</td>\n",
       "      <td>272515.000000</td>\n",
       "      <td>2.725150e+08</td>\n",
       "      <td>2.725150e+09</td>\n",
       "      <td>411009.000000</td>\n",
       "      <td>0.000000</td>\n",
       "      <td>4.000000</td>\n",
       "      <td>2.000000</td>\n",
       "      <td>3.000000</td>\n",
       "      <td>1.000000</td>\n",
       "      <td>...</td>\n",
       "      <td>5.000000</td>\n",
       "      <td>28.000000</td>\n",
       "      <td>23.000000</td>\n",
       "      <td>80.000000</td>\n",
       "      <td>0.000000</td>\n",
       "      <td>0.000000</td>\n",
       "      <td>0.000000</td>\n",
       "      <td>55.000000</td>\n",
       "      <td>50.000000</td>\n",
       "      <td>150.000000</td>\n",
       "    </tr>\n",
       "    <tr>\n",
       "      <th>50%</th>\n",
       "      <td>2.725160e+10</td>\n",
       "      <td>272516.000000</td>\n",
       "      <td>2.725160e+08</td>\n",
       "      <td>2.725160e+09</td>\n",
       "      <td>411028.000000</td>\n",
       "      <td>0.000000</td>\n",
       "      <td>17.000000</td>\n",
       "      <td>2.000000</td>\n",
       "      <td>3.000000</td>\n",
       "      <td>1.000000</td>\n",
       "      <td>...</td>\n",
       "      <td>67.000000</td>\n",
       "      <td>100.000000</td>\n",
       "      <td>88.000000</td>\n",
       "      <td>221.000000</td>\n",
       "      <td>0.000000</td>\n",
       "      <td>0.000000</td>\n",
       "      <td>0.000000</td>\n",
       "      <td>140.000000</td>\n",
       "      <td>127.000000</td>\n",
       "      <td>290.000000</td>\n",
       "    </tr>\n",
       "    <tr>\n",
       "      <th>75%</th>\n",
       "      <td>2.725170e+10</td>\n",
       "      <td>272517.000000</td>\n",
       "      <td>2.725170e+08</td>\n",
       "      <td>2.725170e+09</td>\n",
       "      <td>411041.000000</td>\n",
       "      <td>0.000000</td>\n",
       "      <td>20.000000</td>\n",
       "      <td>7.000000</td>\n",
       "      <td>3.000000</td>\n",
       "      <td>5.000000</td>\n",
       "      <td>...</td>\n",
       "      <td>145.000000</td>\n",
       "      <td>239.000000</td>\n",
       "      <td>212.000000</td>\n",
       "      <td>459.000000</td>\n",
       "      <td>50.000000</td>\n",
       "      <td>40.000000</td>\n",
       "      <td>106.000000</td>\n",
       "      <td>304.000000</td>\n",
       "      <td>267.000000</td>\n",
       "      <td>563.000000</td>\n",
       "    </tr>\n",
       "    <tr>\n",
       "      <th>max</th>\n",
       "      <td>2.725180e+10</td>\n",
       "      <td>272518.000000</td>\n",
       "      <td>2.725180e+08</td>\n",
       "      <td>2.725180e+09</td>\n",
       "      <td>411103.000000</td>\n",
       "      <td>2.000000</td>\n",
       "      <td>99.000000</td>\n",
       "      <td>11.000000</td>\n",
       "      <td>9.000000</td>\n",
       "      <td>12.000000</td>\n",
       "      <td>...</td>\n",
       "      <td>2327.000000</td>\n",
       "      <td>2955.000000</td>\n",
       "      <td>2628.000000</td>\n",
       "      <td>4375.000000</td>\n",
       "      <td>3365.000000</td>\n",
       "      <td>2852.000000</td>\n",
       "      <td>4411.000000</td>\n",
       "      <td>6237.000000</td>\n",
       "      <td>5199.000000</td>\n",
       "      <td>7205.000000</td>\n",
       "    </tr>\n",
       "  </tbody>\n",
       "</table>\n",
       "<p>8 rows × 75 columns</p>\n",
       "</div>"
      ],
      "text/plain": [
       "           Dise No.     Block Code  Village Code      CRC Code       Pin Code  \\\n",
       "count  6.077000e+03    6077.000000  6.077000e+03  6.077000e+03    6077.000000   \n",
       "mean   2.725158e+10  272515.831002  2.725158e+08  2.725158e+09  410889.798749   \n",
       "std    1.376656e+05       1.377989  1.376653e+03  1.377985e+04    7382.763001   \n",
       "min    2.725140e+10  272514.000000  2.725140e+08  2.725140e+09    4110.000000   \n",
       "25%    2.725150e+10  272515.000000  2.725150e+08  2.725150e+09  411009.000000   \n",
       "50%    2.725160e+10  272516.000000  2.725160e+08  2.725160e+09  411028.000000   \n",
       "75%    2.725170e+10  272517.000000  2.725170e+08  2.725170e+09  411041.000000   \n",
       "max    2.725180e+10  272518.000000  2.725180e+08  2.725180e+09  411103.000000   \n",
       "\n",
       "       School Status Code  Management Code  Category Code  School Type Code  \\\n",
       "count         6077.000000      6077.000000    6077.000000       6077.000000   \n",
       "mean             0.022709        14.612473       3.824420          2.878723   \n",
       "std              0.180914         7.155684       3.011161          0.422698   \n",
       "min              0.000000         1.000000       1.000000          0.000000   \n",
       "25%              0.000000         4.000000       2.000000          3.000000   \n",
       "50%              0.000000        17.000000       2.000000          3.000000   \n",
       "75%              0.000000        20.000000       7.000000          3.000000   \n",
       "max              2.000000        99.000000      11.000000          9.000000   \n",
       "\n",
       "       Lowest Class     ...         6_8 Total     1_8 Boys    1_8 Girls  \\\n",
       "count   6077.000000     ...       6077.000000  6077.000000  6077.000000   \n",
       "mean       3.209149     ...        124.498272   181.195327   161.872635   \n",
       "std        3.238724     ...        197.771273   245.061331   224.598750   \n",
       "min        1.000000     ...          0.000000     0.000000     0.000000   \n",
       "25%        1.000000     ...          5.000000    28.000000    23.000000   \n",
       "50%        1.000000     ...         67.000000   100.000000    88.000000   \n",
       "75%        5.000000     ...        145.000000   239.000000   212.000000   \n",
       "max       12.000000     ...       2327.000000  2955.000000  2628.000000   \n",
       "\n",
       "         1_8 Total    9_12 Boys   9_12 Girls   9_12 Total    1_12 Boys  \\\n",
       "count  6077.000000  6077.000000  6077.000000  6077.000000  6077.000000   \n",
       "mean    343.067961    67.332072    61.381274   128.713345   248.527398   \n",
       "std     401.640937   192.980060   191.303518   330.509856   358.182496   \n",
       "min       0.000000     0.000000     0.000000     0.000000     0.000000   \n",
       "25%      80.000000     0.000000     0.000000     0.000000    55.000000   \n",
       "50%     221.000000     0.000000     0.000000     0.000000   140.000000   \n",
       "75%     459.000000    50.000000    40.000000   106.000000   304.000000   \n",
       "max    4375.000000  3365.000000  2852.000000  4411.000000  6237.000000   \n",
       "\n",
       "        1_12 Girls   1_12 Total  \n",
       "count  6077.000000  6077.000000  \n",
       "mean    223.253908   471.781307  \n",
       "std     347.517654   579.461969  \n",
       "min       0.000000     0.000000  \n",
       "25%      50.000000   150.000000  \n",
       "50%     127.000000   290.000000  \n",
       "75%     267.000000   563.000000  \n",
       "max    5199.000000  7205.000000  \n",
       "\n",
       "[8 rows x 75 columns]"
      ]
     },
     "execution_count": 5,
     "metadata": {},
     "output_type": "execute_result"
    }
   ],
   "source": [
    "data.describe()"
   ]
  },
  {
   "cell_type": "code",
   "execution_count": 6,
   "metadata": {},
   "outputs": [
    {
     "data": {
      "text/html": [
       "<div>\n",
       "<style scoped>\n",
       "    .dataframe tbody tr th:only-of-type {\n",
       "        vertical-align: middle;\n",
       "    }\n",
       "\n",
       "    .dataframe tbody tr th {\n",
       "        vertical-align: top;\n",
       "    }\n",
       "\n",
       "    .dataframe thead th {\n",
       "        text-align: right;\n",
       "    }\n",
       "</style>\n",
       "<table border=\"1\" class=\"dataframe\">\n",
       "  <thead>\n",
       "    <tr style=\"text-align: right;\">\n",
       "      <th></th>\n",
       "      <th>Dise No.</th>\n",
       "      <th>Rural / Urban</th>\n",
       "      <th>Year</th>\n",
       "      <th>Block Code</th>\n",
       "      <th>Block Name</th>\n",
       "      <th>Village Code</th>\n",
       "      <th>Village Name</th>\n",
       "      <th>Zonal Office</th>\n",
       "      <th>CRC Code</th>\n",
       "      <th>CRC No.</th>\n",
       "      <th>...</th>\n",
       "      <th>6_8 Total</th>\n",
       "      <th>1_8 Boys</th>\n",
       "      <th>1_8 Girls</th>\n",
       "      <th>1_8 Total</th>\n",
       "      <th>9_12 Boys</th>\n",
       "      <th>9_12 Girls</th>\n",
       "      <th>9_12 Total</th>\n",
       "      <th>1_12 Boys</th>\n",
       "      <th>1_12 Girls</th>\n",
       "      <th>1_12 Total</th>\n",
       "    </tr>\n",
       "  </thead>\n",
       "  <tbody>\n",
       "    <tr>\n",
       "      <th>0</th>\n",
       "      <td>27251400101</td>\n",
       "      <td>Urban</td>\n",
       "      <td>2012-13</td>\n",
       "      <td>272514</td>\n",
       "      <td>Aundh</td>\n",
       "      <td>272514001</td>\n",
       "      <td>AUNDH GAON</td>\n",
       "      <td>Aundh</td>\n",
       "      <td>2725140001</td>\n",
       "      <td>Aundh CRC No. 1</td>\n",
       "      <td>...</td>\n",
       "      <td>0</td>\n",
       "      <td>120</td>\n",
       "      <td>128</td>\n",
       "      <td>248</td>\n",
       "      <td>0</td>\n",
       "      <td>0</td>\n",
       "      <td>0</td>\n",
       "      <td>120</td>\n",
       "      <td>128</td>\n",
       "      <td>248</td>\n",
       "    </tr>\n",
       "    <tr>\n",
       "      <th>1</th>\n",
       "      <td>27251400102</td>\n",
       "      <td>Urban</td>\n",
       "      <td>2012-13</td>\n",
       "      <td>272514</td>\n",
       "      <td>Aundh</td>\n",
       "      <td>272514001</td>\n",
       "      <td>AUNDH GAON</td>\n",
       "      <td>Aundh</td>\n",
       "      <td>2725140001</td>\n",
       "      <td>Aundh CRC No. 1</td>\n",
       "      <td>...</td>\n",
       "      <td>125</td>\n",
       "      <td>0</td>\n",
       "      <td>296</td>\n",
       "      <td>296</td>\n",
       "      <td>0</td>\n",
       "      <td>0</td>\n",
       "      <td>0</td>\n",
       "      <td>0</td>\n",
       "      <td>296</td>\n",
       "      <td>296</td>\n",
       "    </tr>\n",
       "    <tr>\n",
       "      <th>2</th>\n",
       "      <td>27251400103</td>\n",
       "      <td>Urban</td>\n",
       "      <td>2012-13</td>\n",
       "      <td>272514</td>\n",
       "      <td>Aundh</td>\n",
       "      <td>272514001</td>\n",
       "      <td>AUNDH GAON</td>\n",
       "      <td>Aundh</td>\n",
       "      <td>2725140001</td>\n",
       "      <td>Aundh CRC No. 1</td>\n",
       "      <td>...</td>\n",
       "      <td>111</td>\n",
       "      <td>283</td>\n",
       "      <td>0</td>\n",
       "      <td>283</td>\n",
       "      <td>0</td>\n",
       "      <td>0</td>\n",
       "      <td>0</td>\n",
       "      <td>283</td>\n",
       "      <td>0</td>\n",
       "      <td>283</td>\n",
       "    </tr>\n",
       "    <tr>\n",
       "      <th>3</th>\n",
       "      <td>27251400104</td>\n",
       "      <td>Urban</td>\n",
       "      <td>2012-13</td>\n",
       "      <td>272514</td>\n",
       "      <td>Aundh</td>\n",
       "      <td>272514001</td>\n",
       "      <td>AUNDH GAON</td>\n",
       "      <td>Aundh</td>\n",
       "      <td>2725140001</td>\n",
       "      <td>Aundh CRC No. 1</td>\n",
       "      <td>...</td>\n",
       "      <td>0</td>\n",
       "      <td>34</td>\n",
       "      <td>34</td>\n",
       "      <td>68</td>\n",
       "      <td>0</td>\n",
       "      <td>0</td>\n",
       "      <td>0</td>\n",
       "      <td>34</td>\n",
       "      <td>34</td>\n",
       "      <td>68</td>\n",
       "    </tr>\n",
       "    <tr>\n",
       "      <th>4</th>\n",
       "      <td>27251400105</td>\n",
       "      <td>Urban</td>\n",
       "      <td>2012-13</td>\n",
       "      <td>272514</td>\n",
       "      <td>Aundh</td>\n",
       "      <td>272514001</td>\n",
       "      <td>AUNDH GAON</td>\n",
       "      <td>Aundh</td>\n",
       "      <td>2725140001</td>\n",
       "      <td>Aundh CRC No. 1</td>\n",
       "      <td>...</td>\n",
       "      <td>0</td>\n",
       "      <td>78</td>\n",
       "      <td>79</td>\n",
       "      <td>157</td>\n",
       "      <td>0</td>\n",
       "      <td>0</td>\n",
       "      <td>0</td>\n",
       "      <td>78</td>\n",
       "      <td>79</td>\n",
       "      <td>157</td>\n",
       "    </tr>\n",
       "  </tbody>\n",
       "</table>\n",
       "<p>5 rows × 96 columns</p>\n",
       "</div>"
      ],
      "text/plain": [
       "      Dise No. Rural / Urban     Year  Block Code Block Name  Village Code  \\\n",
       "0  27251400101         Urban  2012-13      272514      Aundh     272514001   \n",
       "1  27251400102         Urban  2012-13      272514      Aundh     272514001   \n",
       "2  27251400103         Urban  2012-13      272514      Aundh     272514001   \n",
       "3  27251400104         Urban  2012-13      272514      Aundh     272514001   \n",
       "4  27251400105         Urban  2012-13      272514      Aundh     272514001   \n",
       "\n",
       "  Village Name Zonal Office    CRC Code          CRC No.    ...      \\\n",
       "0   AUNDH GAON        Aundh  2725140001  Aundh CRC No. 1    ...       \n",
       "1   AUNDH GAON        Aundh  2725140001  Aundh CRC No. 1    ...       \n",
       "2   AUNDH GAON        Aundh  2725140001  Aundh CRC No. 1    ...       \n",
       "3   AUNDH GAON        Aundh  2725140001  Aundh CRC No. 1    ...       \n",
       "4   AUNDH GAON        Aundh  2725140001  Aundh CRC No. 1    ...       \n",
       "\n",
       "   6_8 Total 1_8 Boys  1_8 Girls 1_8 Total  9_12 Boys 9_12 Girls  9_12 Total  \\\n",
       "0          0      120        128       248          0          0           0   \n",
       "1        125        0        296       296          0          0           0   \n",
       "2        111      283          0       283          0          0           0   \n",
       "3          0       34         34        68          0          0           0   \n",
       "4          0       78         79       157          0          0           0   \n",
       "\n",
       "  1_12 Boys  1_12 Girls 1_12 Total  \n",
       "0       120         128        248  \n",
       "1         0         296        296  \n",
       "2       283           0        283  \n",
       "3        34          34         68  \n",
       "4        78          79        157  \n",
       "\n",
       "[5 rows x 96 columns]"
      ]
     },
     "execution_count": 6,
     "metadata": {},
     "output_type": "execute_result"
    }
   ],
   "source": [
    "data.head()"
   ]
  },
  {
   "cell_type": "code",
   "execution_count": 7,
   "metadata": {},
   "outputs": [
    {
     "data": {
      "text/plain": [
       "Index(['Dise No.', 'Rural / Urban', 'Year', 'Block Code', 'Block Name',\n",
       "       'Village Code', 'Village Name', 'Zonal Office', 'CRC Code', 'CRC No.',\n",
       "       'Pin Code', 'School Name', 'School Status Code', 'School Status',\n",
       "       'Management Code', 'Management Name', 'Category Code', 'Category Name',\n",
       "       'School Type Code', 'School Type Name', 'Lowest Class', 'Highest Class',\n",
       "       'Medium Code', 'Medium', 'Building Status Code', 'Building Status',\n",
       "       'Electricity Code', 'Electricity', 'Boundary Wall Code',\n",
       "       'Boundary Wall', 'Library Code', 'Library', 'Playground Code',\n",
       "       'Playground', 'Water Code', 'Water', 'Ramp Code', 'Ramp',\n",
       "       'HM Room Code', 'HM Room', 'Kitchen Shed Code', 'Kitchen Shed',\n",
       "       'Pre Primary Boys', 'Pre Primary Girls', 'Pre Primary Total', '1 Boys',\n",
       "       '1 Girls', '1 Total', '2 Boys', '2 Girls', '2 Total', '3 Boys',\n",
       "       '3 Girls', '3 Total', '4 Boys', '4 Girls', '4 Total', '5 Boys',\n",
       "       '5 Girls', '5 Total', '6 Boys', '6 Girls', '6 Total', '7 Boys',\n",
       "       '7 Girls', '7 Total', '8 Boys', '8 Girls', '8 Total', '9 Boys',\n",
       "       '9 Girls', '9 Total', '10 Boys', '10 Girls', '10 Total', '11 Boys',\n",
       "       '11 Girls', '11 Total', '12 Boys', '12 Girls', '12 Total', '1_5 Boys',\n",
       "       '1_5 Girls', '1_5 Total', '6_8 Boys', '6_8 Girls', '6_8 Total',\n",
       "       '1_8 Boys', '1_8 Girls', '1_8 Total', '9_12 Boys', '9_12 Girls',\n",
       "       '9_12 Total', '1_12 Boys', '1_12 Girls', '1_12 Total'],\n",
       "      dtype='object')"
      ]
     },
     "execution_count": 7,
     "metadata": {},
     "output_type": "execute_result"
    }
   ],
   "source": [
    "data.columns"
   ]
  },
  {
   "cell_type": "markdown",
   "metadata": {},
   "source": [
    "## <span style=\"color:Orange\">Block vs Management School Count </span>\n",
    "###### * Plot to describe how many Schools fall under each Management BlockWise"
   ]
  },
  {
   "cell_type": "code",
   "execution_count": 8,
   "metadata": {},
   "outputs": [
    {
     "data": {
      "text/plain": [
       "Block Name  Management Name                                                            \n",
       "Aundh       Central School                                                                   5\n",
       "            MNC                                                                            335\n",
       "            No Response                                                                      1\n",
       "            Partially Aided                                                                  6\n",
       "            Permanent Unaided                                                              514\n",
       "            Pvt. Aided                                                                     395\n",
       "            Self Finance                                                                    16\n",
       "            Social Welfare Aided                                                            12\n",
       "            Un-Recognised                                                                   25\n",
       "            Unaided                                                                         96\n",
       "Bibwewadi   MNC                                                                            318\n",
       "            NP                                                                               1\n",
       "            Partially Aided                                                                 12\n",
       "            Permanent Unaided                                                              464\n",
       "            Pvt. Aided                                                                     361\n",
       "            Self Finance                                                                    35\n",
       "            Social Welfare Aided                                                            10\n",
       "            Social Welfare Unaided                                                           5\n",
       "            Un-Recognised                                                                   49\n",
       "            Unaided                                                                        143\n",
       "Hadapsar    MNC                                                                            373\n",
       "            Madarsa recognized (by Wakf board/Madarsa Board)                                 3\n",
       "            Not Applicable                                                                   1\n",
       "            Partially Aided                                                                  5\n",
       "            Permanent Unaided                                                              386\n",
       "            Pvt. Aided                                                                     215\n",
       "            Self Finance                                                                    18\n",
       "            Social Welfare Aided                                                            19\n",
       "            Social Welfare Unaided                                                           5\n",
       "            Un-Recognised                                                                   44\n",
       "            Unaided                                                                         51\n",
       "Pune City   Department of Education                                                          5\n",
       "            MNC                                                                            248\n",
       "            Permanent Unaided                                                              228\n",
       "            Pvt. Aided                                                                     431\n",
       "            Social Welfare Aided                                                            10\n",
       "            Un-Recognised                                                                    1\n",
       "            Unaided                                                                         16\n",
       "Yerawada    Central School                                                                  20\n",
       "            MNC                                                                            405\n",
       "            Partially Aided                                                                  4\n",
       "            Permanent Unaided                                                              427\n",
       "            Pvt. Aided                                                                     197\n",
       "            Self Finance                                                                    26\n",
       "            Social Welfare                                                                  12\n",
       "            Social Welfare Aided                                                            10\n",
       "            Social Welfare Unaided                                                           5\n",
       "            Un-Recognised                                                                   49\n",
       "            Unaided                                                                         60\n",
       "Name: Management Name, dtype: int64"
      ]
     },
     "execution_count": 8,
     "metadata": {},
     "output_type": "execute_result"
    }
   ],
   "source": [
    "X=data.groupby(['Block Name','Management Name'])['Management Name'].count()\n",
    "X"
   ]
  },
  {
   "cell_type": "code",
   "execution_count": 9,
   "metadata": {
    "scrolled": false
   },
   "outputs": [
    {
     "data": {
      "text/plain": [
       "<seaborn.axisgrid.FacetGrid at 0x7f3f85a105c0>"
      ]
     },
     "execution_count": 9,
     "metadata": {},
     "output_type": "execute_result"
    },
    {
     "data": {
      "image/png": "[encoded data removed]",
      "text/plain": [
       "<Figure size 1440x1080 with 1 Axes>"
      ]
     },
     "metadata": {},
     "output_type": "display_data"
    },
    {
     "data": {
      "image/png": "[encoded data removed]",
      "text/plain": [
       "<Figure size 659.125x360 with 1 Axes>"
      ]
     },
     "metadata": {},
     "output_type": "display_data"
    }
   ],
   "source": [
    "# plt.subplots(figsize=(20,15))\n",
    "plt.figure(figsize=(20,15))\n",
    "ax=plt.subplot(111)\n",
    "#fig =plt.figure(figsize=(18, 16), dpi= 80, facecolor='w', edgecolor='k')\n",
    "sb.catplot(\"Block Name\", data=data, hue='Management Name',kind='count',ax=ax)"
   ]
  },
  {
   "cell_type": "markdown",
   "metadata": {},
   "source": [
    "#### Which are the top 4 Managements with Maximum School Counts?"
   ]
  },
  {
   "cell_type": "markdown",
   "metadata": {},
   "source": [
    "* The top 4 Management with maximum of number of schools under them are **MNC, Pvt. Aided, Permanent Unaided and Unaided**"
   ]
  },
  {
   "cell_type": "markdown",
   "metadata": {},
   "source": [
    "## <span style=\"color:Orange\"> Management Performance based on facilities provided</span>\n"
   ]
  },
  {
   "cell_type": "markdown",
   "metadata": {},
   "source": [
    "** The Facilities in the schools are provided by the Management are namely**\n",
    "* Electricity\n",
    "* Library\n",
    "* Playground\n",
    "* Ramp\n",
    "* HM Room\n",
    "\n",
    "The above all facilities can be clubbed in to one attribute. If all the facilities are available then its value is **5** and if none is availble then it's val is **0**.\n",
    "\n",
    "* The response values are label encoded as **0** and  **1**, i.e. if the particular facility is provided then it is **1** and if the facility is not available in any form then it is **0**"
   ]
  },
  {
   "cell_type": "code",
   "execution_count": 10,
   "metadata": {
    "collapsed": true
   },
   "outputs": [],
   "source": [
    "data['Electricity_mod']=data['Electricity'].replace(['Yes', 'No', 'No Response','Yes but not functioning'], [1,0,0,0])"
   ]
  },
  {
   "cell_type": "code",
   "execution_count": 11,
   "metadata": {},
   "outputs": [
    {
     "data": {
      "text/plain": [
       "1    6055\n",
       "0      22\n",
       "Name: Electricity_mod, dtype: int64"
      ]
     },
     "execution_count": 11,
     "metadata": {},
     "output_type": "execute_result"
    }
   ],
   "source": [
    "data['Electricity_mod'].value_counts()"
   ]
  },
  {
   "cell_type": "code",
   "execution_count": 12,
   "metadata": {
    "collapsed": true
   },
   "outputs": [],
   "source": [
    "data['Library_mod']=data['Library'].replace(['Yes', 'No', 'No Response'], [1,0,0])"
   ]
  },
  {
   "cell_type": "code",
   "execution_count": 13,
   "metadata": {},
   "outputs": [
    {
     "data": {
      "text/plain": [
       "1    5780\n",
       "0     297\n",
       "Name: Library_mod, dtype: int64"
      ]
     },
     "execution_count": 13,
     "metadata": {},
     "output_type": "execute_result"
    }
   ],
   "source": [
    "data['Library_mod'].value_counts()"
   ]
  },
  {
   "cell_type": "code",
   "execution_count": 14,
   "metadata": {
    "collapsed": true
   },
   "outputs": [],
   "source": [
    "data['Playground_mod']=data['Playground'].replace(['Yes', 'No', 'No Response'], [1,0,0])"
   ]
  },
  {
   "cell_type": "code",
   "execution_count": 15,
   "metadata": {},
   "outputs": [
    {
     "data": {
      "text/plain": [
       "1    5044\n",
       "0    1033\n",
       "Name: Playground_mod, dtype: int64"
      ]
     },
     "execution_count": 15,
     "metadata": {},
     "output_type": "execute_result"
    }
   ],
   "source": [
    "data['Playground_mod'].value_counts()"
   ]
  },
  {
   "cell_type": "code",
   "execution_count": 16,
   "metadata": {
    "collapsed": true
   },
   "outputs": [],
   "source": [
    "data['Ramp_mod']=data['Ramp'].replace(['Yes', 'No', 'No Response'], [1,0,0])"
   ]
  },
  {
   "cell_type": "code",
   "execution_count": 17,
   "metadata": {},
   "outputs": [
    {
     "data": {
      "text/plain": [
       "1    3965\n",
       "0    2112\n",
       "Name: Ramp_mod, dtype: int64"
      ]
     },
     "execution_count": 17,
     "metadata": {},
     "output_type": "execute_result"
    }
   ],
   "source": [
    "data['Ramp_mod'].value_counts()"
   ]
  },
  {
   "cell_type": "code",
   "execution_count": 18,
   "metadata": {
    "collapsed": true
   },
   "outputs": [],
   "source": [
    "data['HM_Room_mod'] = data['HM Room'].replace(['Yes', 'No', 'No Response'], [1,0,0])"
   ]
  },
  {
   "cell_type": "code",
   "execution_count": 19,
   "metadata": {},
   "outputs": [
    {
     "data": {
      "text/plain": [
       "1    5818\n",
       "0     259\n",
       "Name: HM_Room_mod, dtype: int64"
      ]
     },
     "execution_count": 19,
     "metadata": {},
     "output_type": "execute_result"
    }
   ],
   "source": [
    "data['HM_Room_mod'].value_counts()"
   ]
  },
  {
   "cell_type": "code",
   "execution_count": 20,
   "metadata": {
    "collapsed": true
   },
   "outputs": [],
   "source": [
    "data['facility_count'] = data['Electricity_mod'] + data[\"Library_mod\"] + data['Playground_mod'] + data['Ramp_mod'] + data[\"HM_Room_mod\"]"
   ]
  },
  {
   "cell_type": "code",
   "execution_count": 21,
   "metadata": {},
   "outputs": [
    {
     "data": {
      "text/plain": [
       "5    3164\n",
       "4    2233\n",
       "3     576\n",
       "2      85\n",
       "1      12\n",
       "0       7\n",
       "Name: facility_count, dtype: int64"
      ]
     },
     "execution_count": 21,
     "metadata": {},
     "output_type": "execute_result"
    }
   ],
   "source": [
    "data['facility_count'].value_counts()"
   ]
  },
  {
   "cell_type": "markdown",
   "metadata": {},
   "source": [
    "#### The below plots show the provision of facilities by Management  blockwise and overall."
   ]
  },
  {
   "cell_type": "code",
   "execution_count": 115,
   "metadata": {},
   "outputs": [
    {
     "data": {
      "text/plain": [
       "Text(0, 0.5, 'Facility Score')"
      ]
     },
     "execution_count": 115,
     "metadata": {},
     "output_type": "execute_result"
    },
    {
     "data": {
      "image/png": "[encoded data removed]",
      "text/plain": [
       "<Figure size 1080x360 with 1 Axes>"
      ]
     },
     "metadata": {},
     "output_type": "display_data"
    }
   ],
   "source": [
    "fig,ax= plt.subplots(figsize=(15,5))\n",
    "mgmt_facility2=data.groupby(['Block Name','Management Name'])['facility_count'].mean().unstack(level=-1).plot(ax=ax,kind='bar')\n",
    "plt.legend(loc='upper right')\n",
    "plt.grid(True,color='0.80')\n",
    "plt.title(\"Provision of Facilities By Management Blockwise\")\n",
    "plt.ylabel(\"Facility Score\")"
   ]
  },
  {
   "cell_type": "code",
   "execution_count": 116,
   "metadata": {},
   "outputs": [
    {
     "data": {
      "text/plain": [
       "Text(0, 0.5, 'Facility Score')"
      ]
     },
     "execution_count": 116,
     "metadata": {},
     "output_type": "execute_result"
    },
    {
     "data": {
      "image/png": "[encoded data removed]",
      "text/plain": [
       "<Figure size 1440x360 with 1 Axes>"
      ]
     },
     "metadata": {},
     "output_type": "display_data"
    }
   ],
   "source": [
    "fig,ax= plt.subplots(figsize=(20,5))\n",
    "mgmt_facility1 = data.groupby(['Management Name'])['facility_count'].mean().plot(ax=ax,kind='bar')\n",
    "plt.legend(loc='upper right')\n",
    "plt.grid(True, color='0.9')\n",
    "plt.title(\"Provision of Facilities By Management Overall\")\n",
    "plt.ylabel(\"Facility Score\")\n"
   ]
  },
  {
   "cell_type": "markdown",
   "metadata": {},
   "source": [
    "## Mgmt vs Facility vs num of Schools under mgmt"
   ]
  },
  {
   "cell_type": "code",
   "execution_count": 99,
   "metadata": {},
   "outputs": [
    {
     "ename": "TypeError",
     "evalue": "'Figure' object is not callable",
     "output_type": "error",
     "traceback": [
      "\u001b[0;31m---------------------------------------------------------------------------\u001b[0m",
      "\u001b[0;31mTypeError\u001b[0m                                 Traceback (most recent call last)",
      "\u001b[0;32m<ipython-input-99-06435e0a26ff>\u001b[0m in \u001b[0;36m<module>\u001b[0;34m()\u001b[0m\n\u001b[1;32m     24\u001b[0m \u001b[0msct\u001b[0m \u001b[0;34m=\u001b[0m \u001b[0mscatter\u001b[0m\u001b[0;34m(\u001b[0m\u001b[0mx\u001b[0m\u001b[0;34m,\u001b[0m \u001b[0my\u001b[0m\u001b[0;34m,\u001b[0m \u001b[0ms\u001b[0m\u001b[0;34m=\u001b[0m\u001b[0marea\u001b[0m\u001b[0;34m,\u001b[0m \u001b[0mlinewidths\u001b[0m\u001b[0;34m=\u001b[0m\u001b[0;36m2\u001b[0m\u001b[0;34m,\u001b[0m \u001b[0medgecolor\u001b[0m\u001b[0;34m=\u001b[0m\u001b[0;34m'w'\u001b[0m\u001b[0;34m)\u001b[0m\u001b[0;34m\u001b[0m\u001b[0m\n\u001b[1;32m     25\u001b[0m \u001b[0msct\u001b[0m\u001b[0;34m.\u001b[0m\u001b[0mset_alpha\u001b[0m\u001b[0;34m(\u001b[0m\u001b[0;36m0.75\u001b[0m\u001b[0;34m)\u001b[0m\u001b[0;34m\u001b[0m\u001b[0m\n\u001b[0;32m---> 26\u001b[0;31m \u001b[0msct\u001b[0m\u001b[0;34m.\u001b[0m\u001b[0mfigure\u001b[0m\u001b[0;34m(\u001b[0m\u001b[0mfigsize\u001b[0m\u001b[0;34m=\u001b[0m\u001b[0;34m(\u001b[0m\u001b[0;36m8\u001b[0m\u001b[0;34m,\u001b[0m \u001b[0;36m8\u001b[0m\u001b[0;34m)\u001b[0m\u001b[0;34m,\u001b[0m \u001b[0mdpi\u001b[0m\u001b[0;34m=\u001b[0m\u001b[0;36m80\u001b[0m\u001b[0;34m)\u001b[0m\u001b[0;34m\u001b[0m\u001b[0m\n\u001b[0m\u001b[1;32m     27\u001b[0m \u001b[0;34m\u001b[0m\u001b[0m\n\u001b[1;32m     28\u001b[0m \u001b[0;31m# axis([0,11,200,1280])\u001b[0m\u001b[0;34m\u001b[0m\u001b[0;34m\u001b[0m\u001b[0m\n",
      "\u001b[0;31mTypeError\u001b[0m: 'Figure' object is not callable"
     ]
    },
    {
     "data": {
      "image/png": "[encoded data removed]",
      "text/plain": [
       "<Figure size 432x288 with 1 Axes>"
      ]
     },
     "metadata": {},
     "output_type": "display_data"
    }
   ],
   "source": [
    "from pylab import *\n",
    "from scipy import *\n",
    "\n",
    "x = []\n",
    "y = []\n",
    "# color = []\n",
    "area = []\n",
    "\n",
    "\n",
    "\n",
    "# print(data)\n",
    "for i, row in mgmt_facility.iteritems():\n",
    "#  print(i, row)\n",
    " x.append(i) # murder\n",
    "#  print(x)\n",
    " y.append(row) # burglary\n",
    "#  color.append(row[6]) # larceny_theft \n",
    " area.append(data['Management Name'].value_counts()[i]) # population\n",
    " # plotting the first eigth letters of the state's name\n",
    "#  text(row[1], row[5], \n",
    "#       row[0],size=11,horizontalalignment='center')\n",
    "\n",
    "# making the scatter plot\n",
    "sct = scatter(x, y, s=area, linewidths=2, edgecolor='w')\n",
    "sct.set_alpha(0.75)\n",
    "#sct.figure(figsize=(8, 8), dpi=80)\n",
    "\n",
    "# axis([0,11,200,1280])\n",
    "xlabel('Murders per 100,000 population')\n",
    "ylabel('Burglaries per 100,000 population')\n",
    "show()"
   ]
  },
  {
   "cell_type": "code",
   "execution_count": 101,
   "metadata": {},
   "outputs": [
    {
     "data": {
      "text/plain": [
       "2016-17    1247\n",
       "2015-16    1233\n",
       "2014-15    1223\n",
       "2013-14    1190\n",
       "2012-13    1184\n",
       "Name: Year, dtype: int64"
      ]
     },
     "execution_count": 101,
     "metadata": {},
     "output_type": "execute_result"
    }
   ],
   "source": [
    "data['Year'].value_counts()"
   ]
  },
  {
   "cell_type": "markdown",
   "metadata": {},
   "source": [
    "## 1_5 Total vs Time|Region"
   ]
  },
  {
   "cell_type": "code",
   "execution_count": 159,
   "metadata": {
    "scrolled": true
   },
   "outputs": [
    {
     "data": {
      "text/plain": [
       "Text(0.5, 1.0, '1_5 Total vs Time|Region')"
      ]
     },
     "execution_count": 159,
     "metadata": {},
     "output_type": "execute_result"
    },
    {
     "data": {
      "image/png": "[encoded data removed]",
      "text/plain": [
       "<Figure size 432x288 with 1 Axes>"
      ]
     },
     "metadata": {},
     "output_type": "display_data"
    }
   ],
   "source": [
    "block_year_1_5_enroll = data.groupby([\"Block Name\", \"Year\"])['1_5 Total'].mean()\n",
    "# sb.lineplot(data=block_year_1_5_enroll)\n",
    "list_of_block = []\n",
    "for block, val in data['Block Name'].value_counts().iteritems():\n",
    "    temp = []\n",
    "    for i,j in block_year_1_5_enroll.iteritems():\n",
    "        if block == i[0]:\n",
    "            temp.append(j)\n",
    "    list_of_block.append(temp)\n",
    "    \n",
    "# for each in list_of_block:\n",
    "#     plt.plot(each[1])\n",
    "#     plt.title()\n",
    "df = pd.DataFrame(columns=data['Block Name'].unique(), index=data['Year'].unique())\n",
    "\n",
    "df['Aundh'] = list_of_block[0]\n",
    "df['Bibwewadi'] = list_of_block[1]\n",
    "df['Yerawada'] = list_of_block[2]\n",
    "df['Hadapsar'] = list_of_block[3]\n",
    "df['Pune City'] = list_of_block[4]\n",
    "# df.plot(figsize=(10,5))\n",
    "sb.lineplot(data=df, sizes=(10,10))\n",
    "plt.title(\"1_5 Total vs Time|Region\")\n",
    "# aggregated = data.groupby([\"Block Name\", \"Year\"]).aggregate(np.mean)\n",
    "# aggregated.plot(x='Year', y='Block Name', label='model')\n",
    "# plt.xticks\n",
    "# plt.show()\n",
    "# for title, group in data.groupby([\"Block Name\", \"Year\"]).agge:\n",
    "#     group.plot(x='Block Name', y='Year', title=title)\n",
    "# df = pd.DataFrame(block_year_1_5_enroll)\n",
    "\n",
    "# plt.show()\n",
    "\n"
   ]
  },
  {
   "cell_type": "code",
   "execution_count": 138,
   "metadata": {},
   "outputs": [
    {
     "data": {
      "text/plain": [
       "Block Name  Year   \n",
       "Aundh       2012-13    236.822464\n",
       "            2013-14    239.795620\n",
       "            2014-15    235.763441\n",
       "            2015-16    226.812721\n",
       "            2016-17    221.307167\n",
       "Bibwewadi   2012-13    229.321168\n",
       "            2013-14    223.649635\n",
       "            2014-15    218.752650\n",
       "            2015-16    211.658451\n",
       "            2016-17    212.773852\n",
       "Hadapsar    2012-13    254.314010\n",
       "            2013-14    265.161290\n",
       "            2014-15    259.620087\n",
       "            2015-16    263.852814\n",
       "            2016-17    271.652542\n",
       "Pune City   2012-13    180.127660\n",
       "            2013-14    172.719577\n",
       "            2014-15    173.583784\n",
       "            2015-16    163.712766\n",
       "            2016-17    159.470899\n",
       "Yerawada    2012-13    199.912134\n",
       "            2013-14    204.343220\n",
       "            2014-15    198.303644\n",
       "            2015-16    196.052632\n",
       "            2016-17    196.666667\n",
       "Name: 1_5 Total, dtype: float64"
      ]
     },
     "execution_count": 138,
     "metadata": {},
     "output_type": "execute_result"
    }
   ],
   "source": [
    "data.groupby([\"Block Name\", \"Year\"])['1_5 Total'].mean()"
   ]
  },
  {
   "cell_type": "code",
   "execution_count": 145,
   "metadata": {},
   "outputs": [
    {
     "data": {
      "text/plain": [
       "Aundh        1405\n",
       "Bibwewadi    1398\n",
       "Yerawada     1215\n",
       "Hadapsar     1120\n",
       "Pune City     939\n",
       "Name: Block Name, dtype: int64"
      ]
     },
     "execution_count": 145,
     "metadata": {},
     "output_type": "execute_result"
    }
   ],
   "source": [
    "data['Block Name'].value_counts()"
   ]
  },
  {
   "cell_type": "code",
   "execution_count": null,
   "metadata": {
    "collapsed": true
   },
   "outputs": [],
   "source": []
  }
 ],
 "metadata": {
  "kernelspec": {
   "display_name": "Python 3",
   "language": "python",
   "name": "python3"
  },
  "language_info": {
   "codemirror_mode": {
    "name": "ipython",
    "version": 3
   },
   "file_extension": ".py",
   "mimetype": "text/x-python",
   "name": "python",
   "nbconvert_exporter": "python",
   "pygments_lexer": "ipython3",
   "version": "3.6.3"
  }
 },
 "nbformat": 4,
 "nbformat_minor": 2
}
